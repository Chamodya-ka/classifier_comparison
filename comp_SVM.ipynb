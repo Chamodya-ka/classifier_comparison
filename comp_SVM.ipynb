{
 "cells": [
  {
   "cell_type": "code",
   "execution_count": 23,
   "id": "05dc0749",
   "metadata": {},
   "outputs": [],
   "source": [
    "import os\n",
    "import pandas as pd\n",
    "import pickle"
   ]
  },
  {
   "cell_type": "code",
   "execution_count": 24,
   "id": "4fe99c4d",
   "metadata": {},
   "outputs": [],
   "source": [
    "os.chdir(\"/media/chamo/Backup Plus/WorkSpace/robocomp/ISL_Letters\")"
   ]
  },
  {
   "cell_type": "code",
   "execution_count": 25,
   "id": "ca17fdf4",
   "metadata": {},
   "outputs": [],
   "source": [
    "df = pd.read_csv(\"csv_data/all_aug_csv_data.csv\")"
   ]
  },
  {
   "cell_type": "code",
   "execution_count": 26,
   "id": "984ab098",
   "metadata": {},
   "outputs": [
    {
     "data": {
      "text/html": [
       "<div>\n",
       "<style scoped>\n",
       "    .dataframe tbody tr th:only-of-type {\n",
       "        vertical-align: middle;\n",
       "    }\n",
       "\n",
       "    .dataframe tbody tr th {\n",
       "        vertical-align: top;\n",
       "    }\n",
       "\n",
       "    .dataframe thead th {\n",
       "        text-align: right;\n",
       "    }\n",
       "</style>\n",
       "<table border=\"1\" class=\"dataframe\">\n",
       "  <thead>\n",
       "    <tr style=\"text-align: right;\">\n",
       "      <th></th>\n",
       "      <th>Unnamed: 0</th>\n",
       "      <th>Unnamed: 1</th>\n",
       "      <th>Unnamed: 2</th>\n",
       "      <th>Unnamed: 3</th>\n",
       "      <th>Unnamed: 4</th>\n",
       "      <th>Unnamed: 5</th>\n",
       "      <th>Unnamed: 6</th>\n",
       "      <th>Unnamed: 7</th>\n",
       "      <th>Unnamed: 8</th>\n",
       "      <th>Unnamed: 9</th>\n",
       "      <th>...</th>\n",
       "      <th>Unnamed: 125</th>\n",
       "      <th>Unnamed: 126</th>\n",
       "      <th>Unnamed: 127</th>\n",
       "      <th>Unnamed: 128</th>\n",
       "      <th>Unnamed: 129</th>\n",
       "      <th>Unnamed: 130</th>\n",
       "      <th>Unnamed: 131</th>\n",
       "      <th>Unnamed: 132</th>\n",
       "      <th>Unnamed: 133</th>\n",
       "      <th>Unnamed: 134</th>\n",
       "    </tr>\n",
       "  </thead>\n",
       "  <tbody>\n",
       "    <tr>\n",
       "      <th>0</th>\n",
       "      <td>K</td>\n",
       "      <td>0.000000</td>\n",
       "      <td>0.000000</td>\n",
       "      <td>0.000000</td>\n",
       "      <td>0.000000</td>\n",
       "      <td>0.000000</td>\n",
       "      <td>0.000000</td>\n",
       "      <td>0.000000</td>\n",
       "      <td>0.000000</td>\n",
       "      <td>0.000000</td>\n",
       "      <td>...</td>\n",
       "      <td>0.491756</td>\n",
       "      <td>0.493280</td>\n",
       "      <td>0.552297</td>\n",
       "      <td>0.585863</td>\n",
       "      <td>0.485746</td>\n",
       "      <td>0.510742</td>\n",
       "      <td>0.563376</td>\n",
       "      <td>0.869506</td>\n",
       "      <td>0.458264</td>\n",
       "      <td>0.866527</td>\n",
       "    </tr>\n",
       "    <tr>\n",
       "      <th>1</th>\n",
       "      <td>K</td>\n",
       "      <td>0.287151</td>\n",
       "      <td>0.712849</td>\n",
       "      <td>0.287151</td>\n",
       "      <td>0.712849</td>\n",
       "      <td>0.287151</td>\n",
       "      <td>0.712849</td>\n",
       "      <td>0.287151</td>\n",
       "      <td>0.712849</td>\n",
       "      <td>0.287151</td>\n",
       "      <td>...</td>\n",
       "      <td>0.495787</td>\n",
       "      <td>0.502158</td>\n",
       "      <td>0.506773</td>\n",
       "      <td>0.447959</td>\n",
       "      <td>0.482397</td>\n",
       "      <td>0.483892</td>\n",
       "      <td>0.385712</td>\n",
       "      <td>0.201435</td>\n",
       "      <td>0.293836</td>\n",
       "      <td>0.155573</td>\n",
       "    </tr>\n",
       "    <tr>\n",
       "      <th>2</th>\n",
       "      <td>K</td>\n",
       "      <td>0.145510</td>\n",
       "      <td>0.026687</td>\n",
       "      <td>0.145510</td>\n",
       "      <td>0.026687</td>\n",
       "      <td>0.145510</td>\n",
       "      <td>0.026687</td>\n",
       "      <td>0.145510</td>\n",
       "      <td>0.026687</td>\n",
       "      <td>0.145510</td>\n",
       "      <td>...</td>\n",
       "      <td>0.637266</td>\n",
       "      <td>0.519966</td>\n",
       "      <td>0.697807</td>\n",
       "      <td>0.612550</td>\n",
       "      <td>0.631256</td>\n",
       "      <td>0.537429</td>\n",
       "      <td>0.708886</td>\n",
       "      <td>0.896192</td>\n",
       "      <td>0.603774</td>\n",
       "      <td>0.893214</td>\n",
       "    </tr>\n",
       "    <tr>\n",
       "      <th>3</th>\n",
       "      <td>K</td>\n",
       "      <td>-0.207268</td>\n",
       "      <td>-0.207268</td>\n",
       "      <td>-0.207268</td>\n",
       "      <td>-0.207268</td>\n",
       "      <td>-0.207268</td>\n",
       "      <td>-0.207268</td>\n",
       "      <td>-0.207268</td>\n",
       "      <td>-0.207268</td>\n",
       "      <td>-0.207268</td>\n",
       "      <td>...</td>\n",
       "      <td>0.488338</td>\n",
       "      <td>0.490494</td>\n",
       "      <td>0.573976</td>\n",
       "      <td>0.621457</td>\n",
       "      <td>0.479837</td>\n",
       "      <td>0.515196</td>\n",
       "      <td>0.589648</td>\n",
       "      <td>1.022679</td>\n",
       "      <td>0.440963</td>\n",
       "      <td>1.018465</td>\n",
       "    </tr>\n",
       "    <tr>\n",
       "      <th>4</th>\n",
       "      <td>K</td>\n",
       "      <td>-0.016545</td>\n",
       "      <td>1.016545</td>\n",
       "      <td>-0.016545</td>\n",
       "      <td>1.016545</td>\n",
       "      <td>-0.016545</td>\n",
       "      <td>1.016545</td>\n",
       "      <td>-0.016545</td>\n",
       "      <td>1.016545</td>\n",
       "      <td>-0.016545</td>\n",
       "      <td>...</td>\n",
       "      <td>0.491534</td>\n",
       "      <td>0.506994</td>\n",
       "      <td>0.555157</td>\n",
       "      <td>0.412425</td>\n",
       "      <td>0.486115</td>\n",
       "      <td>0.489743</td>\n",
       "      <td>0.575776</td>\n",
       "      <td>0.128571</td>\n",
       "      <td>0.470624</td>\n",
       "      <td>0.135086</td>\n",
       "    </tr>\n",
       "    <tr>\n",
       "      <th>...</th>\n",
       "      <td>...</td>\n",
       "      <td>...</td>\n",
       "      <td>...</td>\n",
       "      <td>...</td>\n",
       "      <td>...</td>\n",
       "      <td>...</td>\n",
       "      <td>...</td>\n",
       "      <td>...</td>\n",
       "      <td>...</td>\n",
       "      <td>...</td>\n",
       "      <td>...</td>\n",
       "      <td>...</td>\n",
       "      <td>...</td>\n",
       "      <td>...</td>\n",
       "      <td>...</td>\n",
       "      <td>...</td>\n",
       "      <td>...</td>\n",
       "      <td>...</td>\n",
       "      <td>...</td>\n",
       "      <td>...</td>\n",
       "      <td>...</td>\n",
       "    </tr>\n",
       "    <tr>\n",
       "      <th>17095</th>\n",
       "      <td>I</td>\n",
       "      <td>0.598435</td>\n",
       "      <td>0.745958</td>\n",
       "      <td>0.602551</td>\n",
       "      <td>0.712133</td>\n",
       "      <td>0.620573</td>\n",
       "      <td>0.694268</td>\n",
       "      <td>0.638618</td>\n",
       "      <td>0.694335</td>\n",
       "      <td>0.647868</td>\n",
       "      <td>...</td>\n",
       "      <td>0.638957</td>\n",
       "      <td>0.717266</td>\n",
       "      <td>0.703855</td>\n",
       "      <td>0.722781</td>\n",
       "      <td>0.627691</td>\n",
       "      <td>0.716977</td>\n",
       "      <td>0.641996</td>\n",
       "      <td>0.878317</td>\n",
       "      <td>0.533294</td>\n",
       "      <td>0.874750</td>\n",
       "    </tr>\n",
       "    <tr>\n",
       "      <th>17096</th>\n",
       "      <td>I</td>\n",
       "      <td>0.517817</td>\n",
       "      <td>0.689921</td>\n",
       "      <td>0.521513</td>\n",
       "      <td>0.659549</td>\n",
       "      <td>0.537696</td>\n",
       "      <td>0.643508</td>\n",
       "      <td>0.553899</td>\n",
       "      <td>0.643567</td>\n",
       "      <td>0.562204</td>\n",
       "      <td>...</td>\n",
       "      <td>0.554203</td>\n",
       "      <td>0.664158</td>\n",
       "      <td>0.612477</td>\n",
       "      <td>0.669110</td>\n",
       "      <td>0.544087</td>\n",
       "      <td>0.663899</td>\n",
       "      <td>0.556932</td>\n",
       "      <td>0.808771</td>\n",
       "      <td>0.459325</td>\n",
       "      <td>0.805568</td>\n",
       "    </tr>\n",
       "    <tr>\n",
       "      <th>17097</th>\n",
       "      <td>I</td>\n",
       "      <td>0.496239</td>\n",
       "      <td>0.292000</td>\n",
       "      <td>0.504085</td>\n",
       "      <td>0.326072</td>\n",
       "      <td>0.523979</td>\n",
       "      <td>0.345827</td>\n",
       "      <td>0.541905</td>\n",
       "      <td>0.347765</td>\n",
       "      <td>0.550147</td>\n",
       "      <td>...</td>\n",
       "      <td>0.539696</td>\n",
       "      <td>0.325013</td>\n",
       "      <td>0.603581</td>\n",
       "      <td>0.326736</td>\n",
       "      <td>0.528532</td>\n",
       "      <td>0.324049</td>\n",
       "      <td>0.524838</td>\n",
       "      <td>0.165294</td>\n",
       "      <td>0.417203</td>\n",
       "      <td>0.156772</td>\n",
       "    </tr>\n",
       "    <tr>\n",
       "      <th>17098</th>\n",
       "      <td>I</td>\n",
       "      <td>0.847869</td>\n",
       "      <td>0.860848</td>\n",
       "      <td>0.851985</td>\n",
       "      <td>0.827024</td>\n",
       "      <td>0.870007</td>\n",
       "      <td>0.809159</td>\n",
       "      <td>0.888052</td>\n",
       "      <td>0.809225</td>\n",
       "      <td>0.897302</td>\n",
       "      <td>...</td>\n",
       "      <td>0.888391</td>\n",
       "      <td>0.832157</td>\n",
       "      <td>0.953289</td>\n",
       "      <td>0.837672</td>\n",
       "      <td>0.877125</td>\n",
       "      <td>0.831868</td>\n",
       "      <td>0.891430</td>\n",
       "      <td>0.993208</td>\n",
       "      <td>0.782728</td>\n",
       "      <td>0.989641</td>\n",
       "    </tr>\n",
       "    <tr>\n",
       "      <th>17099</th>\n",
       "      <td>I</td>\n",
       "      <td>0.519957</td>\n",
       "      <td>0.712734</td>\n",
       "      <td>0.524097</td>\n",
       "      <td>0.678714</td>\n",
       "      <td>0.542223</td>\n",
       "      <td>0.660746</td>\n",
       "      <td>0.560373</td>\n",
       "      <td>0.660812</td>\n",
       "      <td>0.569676</td>\n",
       "      <td>...</td>\n",
       "      <td>0.560714</td>\n",
       "      <td>0.683876</td>\n",
       "      <td>0.625987</td>\n",
       "      <td>0.689424</td>\n",
       "      <td>0.549383</td>\n",
       "      <td>0.683586</td>\n",
       "      <td>0.563771</td>\n",
       "      <td>0.845860</td>\n",
       "      <td>0.454440</td>\n",
       "      <td>0.842272</td>\n",
       "    </tr>\n",
       "  </tbody>\n",
       "</table>\n",
       "<p>17100 rows × 135 columns</p>\n",
       "</div>"
      ],
      "text/plain": [
       "      Unnamed: 0  Unnamed: 1  Unnamed: 2  Unnamed: 3  Unnamed: 4  Unnamed: 5  \\\n",
       "0              K    0.000000    0.000000    0.000000    0.000000    0.000000   \n",
       "1              K    0.287151    0.712849    0.287151    0.712849    0.287151   \n",
       "2              K    0.145510    0.026687    0.145510    0.026687    0.145510   \n",
       "3              K   -0.207268   -0.207268   -0.207268   -0.207268   -0.207268   \n",
       "4              K   -0.016545    1.016545   -0.016545    1.016545   -0.016545   \n",
       "...          ...         ...         ...         ...         ...         ...   \n",
       "17095          I    0.598435    0.745958    0.602551    0.712133    0.620573   \n",
       "17096          I    0.517817    0.689921    0.521513    0.659549    0.537696   \n",
       "17097          I    0.496239    0.292000    0.504085    0.326072    0.523979   \n",
       "17098          I    0.847869    0.860848    0.851985    0.827024    0.870007   \n",
       "17099          I    0.519957    0.712734    0.524097    0.678714    0.542223   \n",
       "\n",
       "       Unnamed: 6  Unnamed: 7  Unnamed: 8  Unnamed: 9  ...  Unnamed: 125  \\\n",
       "0        0.000000    0.000000    0.000000    0.000000  ...      0.491756   \n",
       "1        0.712849    0.287151    0.712849    0.287151  ...      0.495787   \n",
       "2        0.026687    0.145510    0.026687    0.145510  ...      0.637266   \n",
       "3       -0.207268   -0.207268   -0.207268   -0.207268  ...      0.488338   \n",
       "4        1.016545   -0.016545    1.016545   -0.016545  ...      0.491534   \n",
       "...           ...         ...         ...         ...  ...           ...   \n",
       "17095    0.694268    0.638618    0.694335    0.647868  ...      0.638957   \n",
       "17096    0.643508    0.553899    0.643567    0.562204  ...      0.554203   \n",
       "17097    0.345827    0.541905    0.347765    0.550147  ...      0.539696   \n",
       "17098    0.809159    0.888052    0.809225    0.897302  ...      0.888391   \n",
       "17099    0.660746    0.560373    0.660812    0.569676  ...      0.560714   \n",
       "\n",
       "       Unnamed: 126  Unnamed: 127  Unnamed: 128  Unnamed: 129  Unnamed: 130  \\\n",
       "0          0.493280      0.552297      0.585863      0.485746      0.510742   \n",
       "1          0.502158      0.506773      0.447959      0.482397      0.483892   \n",
       "2          0.519966      0.697807      0.612550      0.631256      0.537429   \n",
       "3          0.490494      0.573976      0.621457      0.479837      0.515196   \n",
       "4          0.506994      0.555157      0.412425      0.486115      0.489743   \n",
       "...             ...           ...           ...           ...           ...   \n",
       "17095      0.717266      0.703855      0.722781      0.627691      0.716977   \n",
       "17096      0.664158      0.612477      0.669110      0.544087      0.663899   \n",
       "17097      0.325013      0.603581      0.326736      0.528532      0.324049   \n",
       "17098      0.832157      0.953289      0.837672      0.877125      0.831868   \n",
       "17099      0.683876      0.625987      0.689424      0.549383      0.683586   \n",
       "\n",
       "       Unnamed: 131  Unnamed: 132  Unnamed: 133  Unnamed: 134  \n",
       "0          0.563376      0.869506      0.458264      0.866527  \n",
       "1          0.385712      0.201435      0.293836      0.155573  \n",
       "2          0.708886      0.896192      0.603774      0.893214  \n",
       "3          0.589648      1.022679      0.440963      1.018465  \n",
       "4          0.575776      0.128571      0.470624      0.135086  \n",
       "...             ...           ...           ...           ...  \n",
       "17095      0.641996      0.878317      0.533294      0.874750  \n",
       "17096      0.556932      0.808771      0.459325      0.805568  \n",
       "17097      0.524838      0.165294      0.417203      0.156772  \n",
       "17098      0.891430      0.993208      0.782728      0.989641  \n",
       "17099      0.563771      0.845860      0.454440      0.842272  \n",
       "\n",
       "[17100 rows x 135 columns]"
      ]
     },
     "execution_count": 26,
     "metadata": {},
     "output_type": "execute_result"
    }
   ],
   "source": [
    "df"
   ]
  },
  {
   "cell_type": "code",
   "execution_count": 27,
   "id": "d78f6a86",
   "metadata": {},
   "outputs": [],
   "source": [
    "data = df.values"
   ]
  },
  {
   "cell_type": "code",
   "execution_count": 28,
   "id": "db306d05",
   "metadata": {},
   "outputs": [
    {
     "data": {
      "text/plain": [
       "array([['K', 0.0, 0.0, ..., 0.8695055246353149, 0.45826432108879106,\n",
       "        0.86652672290802],\n",
       "       ['K', 0.287150932926545, 0.712849067073455, ...,\n",
       "        0.201435081175821, 0.29383565743440504, 0.155572716017336],\n",
       "       ['K', 0.145509836224769, 0.026686885482796997, ...,\n",
       "        0.8961924101181121, 0.60377415731356, 0.8932136083908171],\n",
       "       ...,\n",
       "       ['I', 0.49623927528198497, 0.291999990019518, ...,\n",
       "        0.16529418705098498, 0.417203330054562, 0.15677166071947302],\n",
       "       ['I', 0.8478690993177008, 0.8608483080833499, ...,\n",
       "        0.9932081704109259, 0.782728315530927, 0.9896411900489879],\n",
       "       ['I', 0.519957319149694, 0.7127340321875072, ...,\n",
       "        0.8458597617517181, 0.45443961451098097, 0.8422721419501121]],\n",
       "      dtype=object)"
      ]
     },
     "execution_count": 28,
     "metadata": {},
     "output_type": "execute_result"
    }
   ],
   "source": [
    "data"
   ]
  },
  {
   "cell_type": "code",
   "execution_count": 29,
   "id": "c5459bb1",
   "metadata": {},
   "outputs": [],
   "source": [
    "X = data[:,1:]"
   ]
  },
  {
   "cell_type": "code",
   "execution_count": 30,
   "id": "1bba24fa",
   "metadata": {},
   "outputs": [
    {
     "data": {
      "text/plain": [
       "(17100, 134)"
      ]
     },
     "execution_count": 30,
     "metadata": {},
     "output_type": "execute_result"
    }
   ],
   "source": [
    "X\n",
    "X.shape"
   ]
  },
  {
   "cell_type": "code",
   "execution_count": 31,
   "id": "6e0d6f2e",
   "metadata": {},
   "outputs": [],
   "source": [
    "Y = data[:,0]"
   ]
  },
  {
   "cell_type": "code",
   "execution_count": 32,
   "id": "acfb1d69",
   "metadata": {},
   "outputs": [
    {
     "data": {
      "text/plain": [
       "array(['K', 'K', 'K', ..., 'I', 'I', 'I'], dtype=object)"
      ]
     },
     "execution_count": 32,
     "metadata": {},
     "output_type": "execute_result"
    }
   ],
   "source": [
    "Y"
   ]
  },
  {
   "cell_type": "code",
   "execution_count": 33,
   "id": "6879f3ee",
   "metadata": {},
   "outputs": [],
   "source": [
    "from sklearn.preprocessing import LabelBinarizer"
   ]
  },
  {
   "cell_type": "code",
   "execution_count": 35,
   "id": "bdc8db5f",
   "metadata": {},
   "outputs": [],
   "source": [
    "from sklearn.model_selection import train_test_split\n",
    "from sklearn import metrics\n",
    "from sklearn.preprocessing import StandardScaler"
   ]
  },
  {
   "cell_type": "code",
   "execution_count": 45,
   "id": "106f4d09",
   "metadata": {},
   "outputs": [],
   "source": [
    "X_train, X_val, Y_train, Y_val = train_test_split(X, Y, test_size=0.2,stratify=Y,random_state=11)"
   ]
  },
  {
   "cell_type": "code",
   "execution_count": 46,
   "id": "97be24c6",
   "metadata": {},
   "outputs": [
    {
     "name": "stdout",
     "output_type": "stream",
     "text": [
      "(13680, 134) (3420, 134) (13680,) (3420,)\n"
     ]
    }
   ],
   "source": [
    "print(X_train.shape, X_val.shape, Y_train.shape, Y_val.shape)"
   ]
  },
  {
   "cell_type": "code",
   "execution_count": 47,
   "id": "a03b5763",
   "metadata": {},
   "outputs": [
    {
     "data": {
      "text/plain": [
       "array(['Z', 'V', 'U', ..., 'V', 'D', 'N'], dtype=object)"
      ]
     },
     "execution_count": 47,
     "metadata": {},
     "output_type": "execute_result"
    }
   ],
   "source": [
    "Y_val"
   ]
  },
  {
   "cell_type": "code",
   "execution_count": 40,
   "id": "f84f087d",
   "metadata": {},
   "outputs": [],
   "source": [
    "from sklearn.pipeline import make_pipeline\n",
    "from sklearn.preprocessing import StandardScaler\n",
    "from sklearn.svm import SVC"
   ]
  },
  {
   "cell_type": "code",
   "execution_count": 41,
   "id": "f5d6b3e3",
   "metadata": {},
   "outputs": [
    {
     "name": "stdout",
     "output_type": "stream",
     "text": [
      "Model pipeline created\n",
      "Model Trained\n"
     ]
    }
   ],
   "source": [
    "model = make_pipeline(StandardScaler(), SVC(gamma='auto',C=300))\n",
    "print(\"Model pipeline created\")\n",
    "model.fit(X_train, Y_train)\n",
    "print('Model Trained')"
   ]
  },
  {
   "cell_type": "code",
   "execution_count": 42,
   "id": "00c59ecc",
   "metadata": {},
   "outputs": [
    {
     "name": "stdout",
     "output_type": "stream",
     "text": [
      "Acc : 0.9687134502923976\n"
     ]
    }
   ],
   "source": [
    "y_pred = model.predict(X_val)\n",
    "print( \"Acc : \" +str(metrics.accuracy_score(Y_val,y_pred)))"
   ]
  },
  {
   "cell_type": "code",
   "execution_count": 44,
   "id": "4c9ee55a",
   "metadata": {},
   "outputs": [],
   "source": [
    "filename = '/media/chamo/Backup Plus/WorkSpace/robocomp/ISL_Letters/models/SVM/SVM_II.sav'\n",
    "pickle.dump(model, open(filename, 'wb'))"
   ]
  },
  {
   "cell_type": "code",
   "execution_count": 48,
   "id": "02226f84",
   "metadata": {},
   "outputs": [],
   "source": [
    "from sklearn.metrics import confusion_matrix"
   ]
  },
  {
   "cell_type": "code",
   "execution_count": 55,
   "id": "888977e3",
   "metadata": {},
   "outputs": [],
   "source": [
    "import numpy as np\n",
    "a=[]\n",
    "for x in X_val:\n",
    "    x=np.expand_dims(x,0)\n",
    "    #a.append(np.argmax(model.predict(x)))\n",
    "    a.append(model.predict(x))\n",
    "Y_ohe = LabelBinarizer().fit_transform(Y_val)"
   ]
  },
  {
   "cell_type": "code",
   "execution_count": 58,
   "id": "09798927",
   "metadata": {},
   "outputs": [
    {
     "data": {
      "text/plain": [
       "array([[137,   0,   0,   0,   0,   0,   0,   0,   0,   0,   0,   0,   0,\n",
       "          0,   0,   0,   0,   0,   0,   0,   0,   0,   0,   0,   0],\n",
       "       [  0, 136,   0,   0,   0,   0,   0,   0,   0,   0,   0,   0,   0,\n",
       "          0,   0,   0,   0,   0,   0,   0,   0,   0,   0,   0,   1],\n",
       "       [  0,   0, 136,   0,   0,   0,   0,   0,   0,   0,   1,   0,   0,\n",
       "          0,   0,   0,   0,   0,   0,   0,   0,   0,   0,   0,   0],\n",
       "       [  0,   0,   0, 135,   0,   0,   0,   0,   0,   1,   0,   0,   0,\n",
       "          0,   0,   0,   0,   0,   0,   0,   0,   0,   0,   0,   0],\n",
       "       [  0,   0,   0,   0, 135,   0,   0,   0,   2,   0,   0,   0,   0,\n",
       "          0,   0,   0,   0,   0,   0,   0,   0,   0,   0,   0,   0],\n",
       "       [  0,   0,   0,   0,   0, 136,   0,   0,   0,   1,   0,   0,   0,\n",
       "          0,   0,   0,   0,   0,   0,   0,   0,   0,   0,   0,   0],\n",
       "       [  0,   0,   0,   0,   0,   0, 136,   0,   0,   0,   0,   0,   0,\n",
       "          0,   0,   0,   0,   0,   0,   0,   0,   0,   0,   0,   0],\n",
       "       [  0,   0,   0,   0,   0,   0,   0, 133,   0,   0,   0,   2,   2,\n",
       "          0,   0,   0,   0,   0,   0,   0,   0,   0,   0,   0,   0],\n",
       "       [  0,   0,   0,   0,   4,   0,   0,   0, 132,   0,   0,   0,   0,\n",
       "          0,   0,   0,   0,   0,   0,   0,   0,   0,   0,   1,   0],\n",
       "       [  0,   0,   0,   0,   0,   0,   0,   0,   0, 136,   0,   0,   0,\n",
       "          0,   1,   0,   0,   0,   0,   0,   0,   0,   0,   0,   0],\n",
       "       [  0,   0,   0,   0,   0,   0,   0,   0,   0,   0, 136,   0,   0,\n",
       "          0,   0,   0,   0,   0,   0,   0,   0,   0,   0,   0,   0],\n",
       "       [  0,   0,   0,   0,   0,   0,   0,   0,   0,   0,   0, 136,   1,\n",
       "          0,   0,   0,   0,   0,   0,   0,   0,   0,   0,   0,   0],\n",
       "       [  0,   0,   0,   1,   0,   0,   0,   0,   0,   0,   0,   0, 136,\n",
       "          0,   0,   0,   0,   0,   0,   0,   0,   0,   0,   0,   0],\n",
       "       [  0,   0,   0,   0,   1,   0,   0,   0,   1,   0,   0,   0,   0,\n",
       "        135,   0,   0,   0,   0,   0,   0,   0,   0,   0,   0,   0],\n",
       "       [  0,   0,   0,   2,   0,   0,   0,   0,   0,   0,   0,   0,   0,\n",
       "          0, 134,   0,   0,   0,   0,   0,   0,   0,   0,   0,   0],\n",
       "       [  0,   0,   0,   0,   0,   0,   0,   0,   0,   0,   0,   0,   0,\n",
       "          0,   0, 137,   0,   0,   0,   0,   0,   0,   0,   0,   0],\n",
       "       [  0,   0,   0,   0,   0,   0,   0,   1,   0,   0,   0,   0,   0,\n",
       "          0,   0,   1, 135,   0,   0,   0,   0,   0,   0,   0,   0],\n",
       "       [  0,   0,   0,   0,   0,   0,   0,   0,   0,   0,   0,   0,   0,\n",
       "          0,   0,   0,   0, 135,   0,   0,   0,   2,   0,   0,   0],\n",
       "       [  0,   0,   0,   0,   0,   0,   0,   0,   0,   0,   0,   0,   0,\n",
       "          0,   0,   0,   0,   1, 136,   0,   0,   0,   0,   0,   0],\n",
       "       [  0,   0,   0,   0,   0,   0,   0,   0,   0,   0,   0,   0,   0,\n",
       "          0,   0,   0,   0,   1,   0, 135,   0,   0,   0,   0,   0],\n",
       "       [  0,   0,   1,   0,   0,   0,   0,   0,   0,   0,   0,   0,   0,\n",
       "          0,   0,   0,   0,   0,   0,   0, 136,   0,   0,   0,   0],\n",
       "       [  0,   0,   0,   0,   0,   0,   0,   1,   0,   0,   0,   0,   0,\n",
       "          0,   0,   0,   1,   0,   0,   0,   0, 135,   0,   0,   0],\n",
       "       [  0,   0,   0,   0,   0,   0,   0,   0,   0,   2,   0,   0,   0,\n",
       "          0,   0,   0,   0,   0,   0,   0,   0,   0, 135,   0,   0],\n",
       "       [  0,   0,   0,   0,   0,   0,   0,   0,   0,   0,   0,   0,   0,\n",
       "          0,   0,   1,   0,   0,   0,   0,   0,   0,   0, 136,   0],\n",
       "       [  0,   0,   0,   0,   0,   0,   0,   0,   0,   0,   0,   0,   0,\n",
       "          0,   0,   0,   0,   0,   0,   0,   0,   0,   0,   0, 137]])"
      ]
     },
     "execution_count": 58,
     "metadata": {},
     "output_type": "execute_result"
    }
   ],
   "source": [
    "confusion_matrix(Y_val, np.array(a))"
   ]
  },
  {
   "cell_type": "code",
   "execution_count": null,
   "id": "9fced52c",
   "metadata": {},
   "outputs": [],
   "source": []
  }
 ],
 "metadata": {
  "kernelspec": {
   "display_name": "Python 3",
   "language": "python",
   "name": "python3"
  },
  "language_info": {
   "codemirror_mode": {
    "name": "ipython",
    "version": 3
   },
   "file_extension": ".py",
   "mimetype": "text/x-python",
   "name": "python",
   "nbconvert_exporter": "python",
   "pygments_lexer": "ipython3",
   "version": "3.6.9"
  }
 },
 "nbformat": 4,
 "nbformat_minor": 5
}
